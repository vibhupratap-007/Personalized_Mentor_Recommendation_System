{
 "cells": [
  {
   "cell_type": "markdown",
   "id": "f8b40968-b6c9-4de2-ac04-45d45086861e",
   "metadata": {},
   "source": [
    "### Importing the Libraries"
   ]
  },
  {
   "cell_type": "code",
   "execution_count": 1,
   "id": "5a944ff6-d163-460f-9544-084d4dbb3be9",
   "metadata": {},
   "outputs": [],
   "source": [
    "import pandas as pd\n",
    "import numpy as np\n",
    "import json\n",
    "from sklearn.feature_extraction.text import TfidfVectorizer\n",
    "from sklearn.metrics.pairwise import cosine_similarity\n",
    "import matplotlib.pyplot as plt\n",
    "import seaborn as sns"
   ]
  },
  {
   "cell_type": "markdown",
   "id": "46da0f0b-deff-4da1-a12e-7bfbbccdeb39",
   "metadata": {},
   "source": [
    "### Load the dataset"
   ]
  },
  {
   "cell_type": "code",
   "execution_count": 2,
   "id": "e44e0afe-fc9b-4327-9a40-168bc6b6ebe3",
   "metadata": {},
   "outputs": [],
   "source": [
    "mentors = pd.read_csv(\"mentors.csv\")"
   ]
  },
  {
   "cell_type": "code",
   "execution_count": 3,
   "id": "99d1cae4-3842-4232-83a8-505aec13b596",
   "metadata": {},
   "outputs": [],
   "source": [
    "# Load aspirant profile from JSON\n",
    "with open(\"aspirant_profile.json\", \"r\") as f:\n",
    "    aspirant_profile = json.load(f)\n"
   ]
  },
  {
   "cell_type": "markdown",
   "id": "ace1c1fc-bd63-4fc7-b75a-f5772494ad77",
   "metadata": {},
   "source": [
    "### Combine the Text Features"
   ]
  },
  {
   "cell_type": "markdown",
   "id": "94044f85-c912-4c81-a427-94055f1f6387",
   "metadata": {},
   "source": [
    "#### Creating a combined text feature for vectorization"
   ]
  },
  {
   "cell_type": "code",
   "execution_count": 4,
   "id": "2253786d-4617-4ed4-86fc-f72d488cd4c4",
   "metadata": {},
   "outputs": [],
   "source": [
    "mentors['combined_features'] = mentors['preferred_subjects'] + ' ' + \\\n",
    "                                mentors['target_colleges'] + ' ' + \\\n",
    "                                mentors['prep_level'] + ' ' + \\\n",
    "                                mentors['learning_style']\n",
    "\n",
    "aspirant_combined = aspirant_profile['preferred_subjects'] + ' ' + \\\n",
    "                    aspirant_profile['target_colleges'] + ' ' + \\\n",
    "                    aspirant_profile['prep_level'] + ' ' + \\\n",
    "                    aspirant_profile['learning_style']\n"
   ]
  },
  {
   "cell_type": "markdown",
   "id": "5dc974e6-8916-4e9b-9602-fa45ce8df7b2",
   "metadata": {},
   "source": [
    "### TF-IDF Vectorization"
   ]
  },
  {
   "cell_type": "code",
   "execution_count": 5,
   "id": "6054ef24-f4c3-48fd-97ca-a875cc4f1e58",
   "metadata": {},
   "outputs": [],
   "source": [
    "vectorizer = TfidfVectorizer()\n",
    "mentor_vectors = vectorizer.fit_transform(mentors['combined_features'])\n",
    "aspirant_vector = vectorizer.transform([aspirant_combined])"
   ]
  },
  {
   "cell_type": "markdown",
   "id": "faae090b-3353-4888-a2e1-8882bef6e729",
   "metadata": {},
   "source": [
    "### Calculate Similarity"
   ]
  },
  {
   "cell_type": "code",
   "execution_count": 6,
   "id": "83609e34-1e33-4bcb-9c70-d968bee3f918",
   "metadata": {},
   "outputs": [],
   "source": [
    "similarity_scores = cosine_similarity(aspirant_vector, mentor_vectors).flatten()\n",
    "mentors['similarity_score'] = similarity_scores\n"
   ]
  },
  {
   "cell_type": "markdown",
   "id": "c19144cf-bab9-4c3f-9f36-155e090cd5ff",
   "metadata": {},
   "source": [
    "### Top 3 Mentor Recommendations"
   ]
  },
  {
   "cell_type": "code",
   "execution_count": 7,
   "id": "d7edd519-4c3e-49c2-bbd5-4dba1dec656d",
   "metadata": {},
   "outputs": [],
   "source": [
    "top_matches = mentors.sort_values(by='similarity_score', ascending=False).head(3).reset_index(drop=True)"
   ]
  },
  {
   "cell_type": "markdown",
   "id": "6e7ee491-eac0-4189-9cca-0a8bd42f33f3",
   "metadata": {},
   "source": [
    "### Visualization"
   ]
  },
  {
   "cell_type": "code",
   "execution_count": 8,
   "id": "899f43a2-a734-4ef1-83a6-1b09a271d504",
   "metadata": {},
   "outputs": [
    {
     "name": "stderr",
     "output_type": "stream",
     "text": [
      "/var/folders/hn/rj3y_kk55hx4x92393w2d2900000gn/T/ipykernel_24512/2232478224.py:2: FutureWarning: \n",
      "\n",
      "Passing `palette` without assigning `hue` is deprecated and will be removed in v0.14.0. Assign the `y` variable to `hue` and set `legend=False` for the same effect.\n",
      "\n",
      "  sns.barplot(x='similarity_score', y='name', data=top_matches, palette='viridis')\n"
     ]
    },
    {
     "data": {
      "image/png": "[encoded data removed]",
      "text/plain": [
       "<Figure size 800x500 with 1 Axes>"
      ]
     },
     "metadata": {},
     "output_type": "display_data"
    }
   ],
   "source": [
    "plt.figure(figsize=(8, 5))\n",
    "sns.barplot(x='similarity_score', y='name', data=top_matches, palette='viridis')\n",
    "plt.title('Top 3 Mentor Recommendations')\n",
    "plt.xlabel('Similarity Score')\n",
    "plt.ylabel('Mentor Name')\n",
    "plt.xlim(0, 1)\n",
    "plt.grid(True)\n",
    "plt.tight_layout()\n",
    "plt.show()"
   ]
  },
  {
   "cell_type": "markdown",
   "id": "4874dfd8-1dfc-4e86-befc-64890f7572ff",
   "metadata": {},
   "source": [
    "### Output Result"
   ]
  },
  {
   "cell_type": "code",
   "execution_count": 9,
   "id": "224b9759-d6d0-433f-b816-c3aa6e60db8f",
   "metadata": {},
   "outputs": [
    {
     "name": "stdout",
     "output_type": "stream",
     "text": [
      "\n",
      "✅ Top 3 Recommended Mentors for the Aspirant:\n",
      "  mentor_id          name  similarity_score\n",
      "0      M101  Aarav Sharma          0.855251\n",
      "1      M114   Aryan Singh          0.626107\n",
      "2      M105   Kabir Verma          0.476956\n"
     ]
    }
   ],
   "source": [
    "print(\"\\n✅ Top 3 Recommended Mentors for the Aspirant:\")\n",
    "print(top_matches[['mentor_id', 'name', 'similarity_score']])"
   ]
  },
  {
   "cell_type": "markdown",
   "id": "45d519aa-be0f-4947-8290-ec959a7f416f",
   "metadata": {},
   "source": [
    "### Reusable Function (Optional Extension)"
   ]
  },
  {
   "cell_type": "code",
   "execution_count": 10,
   "id": "51430943-89da-4695-b426-8322500e2c34",
   "metadata": {},
   "outputs": [],
   "source": [
    "def recommend_mentors(aspirant_profile, mentors_df):\n",
    "    aspirant_combined = aspirant_profile['preferred_subjects'] + ' ' + \\\n",
    "                        aspirant_profile['target_colleges'] + ' ' + \\\n",
    "                        aspirant_profile['prep_level'] + ' ' + \\\n",
    "                        aspirant_profile['learning_style']\n",
    "\n",
    "    mentors_df['combined_features'] = mentors_df['preferred_subjects'] + ' ' + \\\n",
    "                                      mentors_df['target_colleges'] + ' ' + \\\n",
    "                                      mentors_df['prep_level'] + ' ' + \\\n",
    "                                      mentors_df['learning_style']\n",
    "\n",
    "    vectorizer = TfidfVectorizer()\n",
    "    mentor_vectors = vectorizer.fit_transform(mentors_df['combined_features'])\n",
    "    aspirant_vector = vectorizer.transform([aspirant_combined])\n",
    "\n",
    "    similarity_scores = cosine_similarity(aspirant_vector, mentor_vectors).flatten()\n",
    "    mentors_df['similarity_score'] = similarity_scores\n",
    "\n",
    "    return mentors_df.sort_values(by='similarity_score', ascending=False).head(3)\n"
   ]
  },
  {
   "cell_type": "markdown",
   "id": "5fd23a6e-0d0d-48bb-8eb3-56b8213fad29",
   "metadata": {},
   "source": [
    "### Batch Recommendation for Multiple Aspirants (Optional Advanced)\n",
    "\n"
   ]
  },
  {
   "cell_type": "code",
   "execution_count": 11,
   "id": "7d673480-8da1-47a7-85ed-464d6668b886",
   "metadata": {},
   "outputs": [],
   "source": [
    "def batch_recommendation(aspirant_csv_path, mentors_df):\n",
    "    aspirants_df = pd.read_csv(aspirant_csv_path)\n",
    "    results = []\n",
    "\n",
    "    for idx, row in aspirants_df.iterrows():\n",
    "        profile = {\n",
    "            'preferred_subjects': row['preferred_subjects'],\n",
    "            'target_colleges': row['target_colleges'],\n",
    "            'prep_level': row['prep_level'],\n",
    "            'learning_style': row['learning_style']\n",
    "        }\n",
    "        top_mentors = recommend_mentors(profile, mentors_df.copy())\n",
    "        for _, mentor in top_mentors.iterrows():\n",
    "            results.append({\n",
    "                'aspirant_id': row['aspirant_id'],\n",
    "                'mentor_id': mentor['mentor_id'],\n",
    "                'mentor_name': mentor['name'],\n",
    "                'similarity_score': round(mentor['similarity_score'], 4)\n",
    "            })\n",
    "\n",
    "    return pd.DataFrame(results)"
   ]
  }
 ],
 "metadata": {
  "kernelspec": {
   "display_name": "base",
   "language": "python",
   "name": "python3"
  },
  "language_info": {
   "codemirror_mode": {
    "name": "ipython",
    "version": 3
   },
   "file_extension": ".py",
   "mimetype": "text/x-python",
   "name": "python",
   "nbconvert_exporter": "python",
   "pygments_lexer": "ipython3",
   "version": "3.12.4"
  }
 },
 "nbformat": 4,
 "nbformat_minor": 5
}
